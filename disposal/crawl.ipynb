{
 "cells": [
  {
   "cell_type": "code",
   "execution_count": null,
   "metadata": {},
   "outputs": [],
   "source": [
    "# https://www.msdmanuals.com/ko/home/%ED%8A%B9%EB%B3%84-%EC%A3%BC%EC%A0%9C/%EC%8B%9D%EC%9D%B4-%EB%B3%B4%EC%B6%A9%EC%A0%9C-%EB%B0%8F-%EB%B9%84%ED%83%80%EB%AF%BC/%EC%8B%9D%EC%9D%B4-%EB%B3%B4%EC%B6%A9%EC%A0%9C-%EA%B0%9C%EC%9A%94\n",
    "# MSD 메뉴얼 웹사이트 크롤링\n"
   ]
  },
  {
   "cell_type": "code",
   "execution_count": null,
   "metadata": {},
   "outputs": [],
   "source": []
  }
 ],
 "metadata": {
  "kernelspec": {
   "display_name": "rag",
   "language": "python",
   "name": "python3"
  },
  "language_info": {
   "name": "python",
   "version": "3.11.11"
  }
 },
 "nbformat": 4,
 "nbformat_minor": 2
}
